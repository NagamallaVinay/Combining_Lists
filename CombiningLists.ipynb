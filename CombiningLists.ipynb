{
  "nbformat": 4,
  "nbformat_minor": 0,
  "metadata": {
    "colab": {
      "provenance": [],
      "authorship_tag": "ABX9TyP/byBQhfPPq3S1Gn5BmEzp",
      "include_colab_link": true
    },
    "kernelspec": {
      "name": "python3",
      "display_name": "Python 3"
    },
    "language_info": {
      "name": "python"
    }
  },
  "cells": [
    {
      "cell_type": "markdown",
      "metadata": {
        "id": "view-in-github",
        "colab_type": "text"
      },
      "source": [
        "<a href=\"https://colab.research.google.com/github/NagamallaVinay/Combining_Lists/blob/main/CombiningLists.ipynb\" target=\"_parent\"><img src=\"https://colab.research.google.com/assets/colab-badge.svg\" alt=\"Open In Colab\"/></a>"
      ]
    },
    {
      "cell_type": "code",
      "execution_count": 2,
      "metadata": {
        "colab": {
          "base_uri": "https://localhost:8080/"
        },
        "id": "289XBt2MUHYt",
        "outputId": "702c74b9-2f8b-4b06-ee49-266861ed3af8"
      },
      "outputs": [
        {
          "output_type": "stream",
          "name": "stdout",
          "text": [
            "List 1: [{\"positions\": [0, 5], \"values\": [\"a\", \"b\"]}, {\"positions\": [10, 15], \"values\": [\"c\"]}]\n",
            "List 2: [{\"positions\": [3, 8], \"values\": [\"x\"]}, {\"positions\": [14, 20], \"values\": [\"y\"]}]\n",
            "{'positions': [0, 5], 'values': ['a', 'b']}\n",
            "{'positions': [3, 8], 'values': ['x']}\n",
            "{'positions': [10, 15], 'values': ['c']}\n",
            "{'positions': [14, 20], 'values': ['y']}\n"
          ]
        }
      ],
      "source": [
        "def combine_lists(a, b):\n",
        "    data = sorted(a + b, key=lambda x: x['positions'][0])\n",
        "    res, i = [], 0\n",
        "    while i < len(data):\n",
        "        l1, r1 = data[i][\"positions\"]\n",
        "        values = data[i][\"values\"][:]\n",
        "        j = i + 1\n",
        "        while j < len(data):\n",
        "            l2, r2 = data[j][\"positions\"]\n",
        "            o = max(0, min(r1, r2) - max(l1, l2))\n",
        "            if o > (r1 - l1)/2 or o > (r2 - l2)/2:\n",
        "                values += data[j][\"values\"]\n",
        "                j += 1\n",
        "            else:\n",
        "                break\n",
        "        res.append({\"positions\": [l1, r1], \"values\": values})\n",
        "        i = j\n",
        "    return res\n",
        "\n",
        "a = eval(input(\"List 1: \"))\n",
        "b = eval(input(\"List 2: \"))\n",
        "for x in combine_lists(a, b): print(x)\n",
        "\n",
        "\n",
        "# Time Complexity : \tO(n log n + m)\n",
        "# Space Complexity : O(n + m)\n",
        "# n = total Input Terms &   m = total number of all values inside all items\n"
      ]
    }
  ]
}